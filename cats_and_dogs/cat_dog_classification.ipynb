{
 "cells": [
  {
   "cell_type": "code",
   "execution_count": 1,
   "metadata": {},
   "outputs": [
    {
     "name": "stderr",
     "output_type": "stream",
     "text": [
      "Using TensorFlow backend.\n"
     ]
    }
   ],
   "source": [
    "from keras import layers, models\n",
    "\n",
    "model = models.Sequential()\n",
    "model.add(layers.Conv2D(32, (3,3), activation='relu', input_shape=(150, 150, 3)))\n",
    "model.add(layers.MaxPooling2D((2,2)))\n",
    "model.add(layers.Conv2D(64, (3,3), activation='relu'))\n",
    "model.add(layers.MaxPooling2D((2,2)))\n",
    "model.add(layers.Conv2D(128, (3,3), activation='relu'))\n",
    "model.add(layers.MaxPooling2D((2,2)))\n",
    "model.add(layers.Conv2D(128, (3,3), activation='relu'))\n",
    "model.add(layers.MaxPooling2D((2,2)))\n",
    "model.add(layers.Flatten())\n",
    "model.add(layers.Dense(512, activation='relu'))\n",
    "model.add(layers.Dense(1, activation='sigmoid'))"
   ]
  },
  {
   "cell_type": "code",
   "execution_count": 2,
   "metadata": {},
   "outputs": [
    {
     "name": "stdout",
     "output_type": "stream",
     "text": [
      "Model: \"sequential_1\"\n",
      "_________________________________________________________________\n",
      "Layer (type)                 Output Shape              Param #   \n",
      "=================================================================\n",
      "conv2d_1 (Conv2D)            (None, 148, 148, 32)      896       \n",
      "_________________________________________________________________\n",
      "max_pooling2d_1 (MaxPooling2 (None, 74, 74, 32)        0         \n",
      "_________________________________________________________________\n",
      "conv2d_2 (Conv2D)            (None, 72, 72, 64)        18496     \n",
      "_________________________________________________________________\n",
      "max_pooling2d_2 (MaxPooling2 (None, 36, 36, 64)        0         \n",
      "_________________________________________________________________\n",
      "conv2d_3 (Conv2D)            (None, 34, 34, 128)       73856     \n",
      "_________________________________________________________________\n",
      "max_pooling2d_3 (MaxPooling2 (None, 17, 17, 128)       0         \n",
      "_________________________________________________________________\n",
      "conv2d_4 (Conv2D)            (None, 15, 15, 128)       147584    \n",
      "_________________________________________________________________\n",
      "max_pooling2d_4 (MaxPooling2 (None, 7, 7, 128)         0         \n",
      "_________________________________________________________________\n",
      "flatten_1 (Flatten)          (None, 6272)              0         \n",
      "_________________________________________________________________\n",
      "dense_1 (Dense)              (None, 512)               3211776   \n",
      "_________________________________________________________________\n",
      "dense_2 (Dense)              (None, 1)                 513       \n",
      "=================================================================\n",
      "Total params: 3,453,121\n",
      "Trainable params: 3,453,121\n",
      "Non-trainable params: 0\n",
      "_________________________________________________________________\n"
     ]
    }
   ],
   "source": [
    "model.summary()"
   ]
  },
  {
   "cell_type": "code",
   "execution_count": 3,
   "metadata": {},
   "outputs": [],
   "source": [
    "from keras import optimizers\n",
    "\n",
    "model.compile(loss='binary_crossentropy', optimizer=optimizers.RMSprop(lr=1e-4), metrics=['acc'])"
   ]
  },
  {
   "cell_type": "code",
   "execution_count": 4,
   "metadata": {},
   "outputs": [],
   "source": [
    "from keras.preprocessing.image import ImageDataGenerator"
   ]
  },
  {
   "cell_type": "code",
   "execution_count": 5,
   "metadata": {},
   "outputs": [
    {
     "name": "stdout",
     "output_type": "stream",
     "text": [
      "Found 2000 images belonging to 2 classes.\n",
      "Found 1000 images belonging to 2 classes.\n"
     ]
    }
   ],
   "source": [
    "train_datagen = ImageDataGenerator(rescale=1./255)\n",
    "test_datagen = ImageDataGenerator(rescale=1./255)\n",
    "\n",
    "train_dir = 'train'\n",
    "validation_dir='validation'\n",
    "\n",
    "train_generator = train_datagen.flow_from_directory(train_dir,\n",
    "                                                   target_size=(150,150),\n",
    "                                                   batch_size=20,\n",
    "                                                   class_mode='binary')\n",
    "\n",
    "validation_generator = train_datagen.flow_from_directory(validation_dir,\n",
    "                                                   target_size=(150,150),\n",
    "                                                   batch_size=20,\n",
    "                                                   class_mode='binary')"
   ]
  },
  {
   "cell_type": "code",
   "execution_count": null,
   "metadata": {
    "scrolled": true
   },
   "outputs": [
    {
     "name": "stdout",
     "output_type": "stream",
     "text": [
      "Epoch 1/30\n",
      "100/100 [==============================] - 148s 1s/step - loss: 0.6870 - acc: 0.5280 - val_loss: 0.6233 - val_acc: 0.6030\n",
      "Epoch 2/30\n",
      "100/100 [==============================] - 146s 1s/step - loss: 0.6440 - acc: 0.6175 - val_loss: 0.7595 - val_acc: 0.6610\n",
      "Epoch 3/30\n",
      "100/100 [==============================] - 148s 1s/step - loss: 0.5948 - acc: 0.6740 - val_loss: 0.6822 - val_acc: 0.6020\n",
      "Epoch 4/30\n",
      "100/100 [==============================] - 151s 2s/step - loss: 0.5601 - acc: 0.7135 - val_loss: 0.5011 - val_acc: 0.6840\n",
      "Epoch 5/30\n",
      "100/100 [==============================] - 214s 2s/step - loss: 0.5322 - acc: 0.7235 - val_loss: 0.5828 - val_acc: 0.6650\n",
      "Epoch 6/30\n",
      "100/100 [==============================] - 263s 3s/step - loss: 0.5100 - acc: 0.7360 - val_loss: 0.7193 - val_acc: 0.6590\n",
      "Epoch 7/30\n",
      "100/100 [==============================] - 164s 2s/step - loss: 0.4859 - acc: 0.7630 - val_loss: 0.4429 - val_acc: 0.7060\n",
      "Epoch 8/30\n",
      "100/100 [==============================] - 146s 1s/step - loss: 0.4577 - acc: 0.7820 - val_loss: 0.4421 - val_acc: 0.6950\n",
      "Epoch 9/30\n",
      "100/100 [==============================] - 149s 1s/step - loss: 0.4338 - acc: 0.7960 - val_loss: 0.5006 - val_acc: 0.7090\n",
      "Epoch 10/30\n",
      "100/100 [==============================] - 153s 2s/step - loss: 0.4064 - acc: 0.8175 - val_loss: 0.5277 - val_acc: 0.7220\n",
      "Epoch 11/30\n",
      "100/100 [==============================] - 151s 2s/step - loss: 0.3816 - acc: 0.8365 - val_loss: 0.5660 - val_acc: 0.7320\n",
      "Epoch 12/30\n",
      "100/100 [==============================] - 154s 2s/step - loss: 0.3579 - acc: 0.8410 - val_loss: 0.6992 - val_acc: 0.7170\n",
      "Epoch 13/30\n",
      "100/100 [==============================] - 153s 2s/step - loss: 0.3391 - acc: 0.8575 - val_loss: 0.8679 - val_acc: 0.7230\n",
      "Epoch 14/30\n",
      "100/100 [==============================] - 154s 2s/step - loss: 0.3124 - acc: 0.8660 - val_loss: 0.6797 - val_acc: 0.7220\n",
      "Epoch 15/30\n",
      "100/100 [==============================] - 150s 2s/step - loss: 0.2859 - acc: 0.8860 - val_loss: 0.3992 - val_acc: 0.7280\n",
      "Epoch 16/30\n",
      " 44/100 [============>.................] - ETA: 1:13 - loss: 0.2525 - acc: 0.9023"
     ]
    }
   ],
   "source": [
    "history = model.fit_generator(train_generator,\n",
    "                             steps_per_epoch=100,\n",
    "                             epochs=30,\n",
    "                             validation_data=validation_generator,\n",
    "                             validation_steps=50)"
   ]
  },
  {
   "cell_type": "code",
   "execution_count": null,
   "metadata": {},
   "outputs": [],
   "source": [
    "model.save('cats_and_dogs_small_1.h5')"
   ]
  },
  {
   "cell_type": "code",
   "execution_count": null,
   "metadata": {},
   "outputs": [],
   "source": [
    "history.history.keys()"
   ]
  },
  {
   "cell_type": "code",
   "execution_count": null,
   "metadata": {},
   "outputs": [],
   "source": [
    "import matplotlib.pyplot as plt\n",
    "\n",
    "acc = history.history['acc']\n",
    "val_acc = history.history['val_acc']\n",
    "loss = history.history['loss']\n",
    "val_loss = history.history['val_loss']\n",
    "\n",
    "epochs = range(1, len(acc) + 1)\n",
    "\n",
    "plt.plot(epochs, acc, 'bo', label='Training accuracy')\n",
    "plt.plot(epochs, val_acc, 'b', label='Validation accuracy')\n",
    "plt.title('Training and validation accuracy')\n",
    "\n",
    "plt.figure()\n",
    "\n",
    "plt.plot(epochs, loss, 'bo', label='Training loss')\n",
    "plt.plot(epochs, val_loss, 'b', label='Validation loss')\n",
    "plt.title('Training and validation loss')\n",
    "\n",
    "plt.show()"
   ]
  },
  {
   "cell_type": "code",
   "execution_count": null,
   "metadata": {},
   "outputs": [],
   "source": []
  }
 ],
 "metadata": {
  "kernelspec": {
   "display_name": "Python 3",
   "language": "python",
   "name": "python3"
  },
  "language_info": {
   "codemirror_mode": {
    "name": "ipython",
    "version": 3
   },
   "file_extension": ".py",
   "mimetype": "text/x-python",
   "name": "python",
   "nbconvert_exporter": "python",
   "pygments_lexer": "ipython3",
   "version": "3.7.0"
  }
 },
 "nbformat": 4,
 "nbformat_minor": 4
}
